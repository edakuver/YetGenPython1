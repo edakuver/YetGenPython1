{
 "cells": [
  {
   "cell_type": "markdown",
   "metadata": {},
   "source": [
    "# Problem 1\n",
    "`ogrenciler` adında bir sözlük oluşturunuz. Kullanıcıdan döngü yardımıyla 3 öğrenci için veri girmesini isteyerek öğrencilerin sırasıyla okul numarası, isim, soy isim, telefon numarası ve doğum tarihi bilgilerini alınız. Aldığınız öğrenci bilgilerini yine aynı döngü yardımıyla `ogrenciler` adındaki sözlükte saklayınız. Daha sonra öğrenci bilgilerinin bulunduğu sözlük yapısını ekrana bastırınız.\n",
    "\n"
   ]
  },
  {
   "cell_type": "code",
   "execution_count": 23,
   "metadata": {},
   "outputs": [
    {
     "name": "stdout",
     "output_type": "stream",
     "text": [
      "\n",
      "Öğrenci bilgileri:\n",
      "Okul Numarası: hgı\n",
      "isim: fhl\n",
      "soyisim: ghj\n",
      "telefonNumarası: gj\n",
      "doğumTarihi: ghjo\n",
      "\n",
      "Okul Numarası: ghjo\n",
      "isim: hjoo\n",
      "soyisim: hjo\n",
      "telefonNumarası: fhj\n",
      "doğumTarihi: hjkgf\n",
      "\n",
      "Okul Numarası: jfo\n",
      "isim: ghjı\n",
      "soyisim: fgjm\n",
      "telefonNumarası: jgkh\n",
      "doğumTarihi: hgklo\n",
      "\n"
     ]
    }
   ],
   "source": [
    "ogrenciler = {}\n",
    "\n",
    "for i in range(3):\n",
    "    okulNumarası = input (\"Lütfen okul numaranızı giriniz :\") \n",
    "    isim = input (\"Lütfen isminizi giriniz :\")\n",
    "    soyisim = input (\"Lütfen soyisminizi giriniz :\")\n",
    "    telefonNumarası = input(\"Lütfen telefon numaranızı giriniz:\")\n",
    "    dogumTarihi = input(\"Lütfen doğum tarihinizi giriniz:\")\n",
    "\n",
    "    ogrenciler[okulNumarası] = {\n",
    "        \"okulNumarası\" : okulNumarası ,\n",
    "        \"isim\" : isim ,\n",
    "        \"soyisim\" : soyisim ,\n",
    "        \"telefonNumarası\" : telefonNumarası, \n",
    "        \"dogumTarihi\": dogumTarihi\n",
    "    }\n",
    "\n",
    "print(\"\\nÖğrenci bilgileri:\")\n",
    "for okulNumarası , bilgiler in ogrenciler.items():\n",
    "    print(f\"Okul Numarası: {okulNumarası}\")\n",
    "    print(f\"isim: {bilgiler['isim']}\")\n",
    "    print(f\"soyisim: {bilgiler['soyisim']}\")\n",
    "    print(f\"telefonNumarası: {bilgiler['telefonNumarası']}\")\n",
    "    print(f\"doğumTarihi: {bilgiler['dogumTarihi']}\\n\")\n"
   ]
  },
  {
   "cell_type": "markdown",
   "metadata": {},
   "source": [
    "# Problem 2\n",
    "\n",
    "### a - Biraz ısınarak başlayalım!\n",
    "\n",
    "```\n",
    "numbers = [5,10,10,15,15,15,20,20,20,20]\n",
    "```\n",
    "\n",
    "Yukarıda `numbers` adında 10 elemanlı bir liste verilmiştir. Bu listenin her elemanını kontrol eden ve tekrar eden elemanları bir kez olacak şekilde başka bir listeye kopyalayan bir program yazınız. Son olarak oluşturduğunuz listeyi ekrana bastırınız.\n",
    "\n",
    "\n",
    "\n",
    "\n",
    "```\n",
    ">Output\n",
    "[5, 10, 15, 20]\n",
    "```\n"
   ]
  },
  {
   "cell_type": "code",
   "execution_count": 1,
   "metadata": {},
   "outputs": [
    {
     "name": "stdout",
     "output_type": "stream",
     "text": [
      "[5, 10, 15, 20]\n"
     ]
    }
   ],
   "source": [
    "numbers = [5,10,10,15,15,15,20,20,20,20]\n",
    "\n",
    "unique = []\n",
    "for number in numbers :\n",
    "    if number not in unique :\n",
    "        unique.append(number)\n",
    "print(unique)\n"
   ]
  },
  {
   "cell_type": "markdown",
   "metadata": {},
   "source": [
    "### 🌶️ b) Hadi işi biraz daha zorlaştıralım! \n",
    "\n",
    "\n",
    "Şimdiyse senden `numbers` isimli listedeki tekrar eden elemanları `repeatNumbers` adındaki listeye; tekrar etmeyen elemanları `uniqueNumbers`adındaki listeye kopyalayan yazmanı ve listeleri ekrana bastırmanı bekliyoruz\n",
    "\n",
    "```\n",
    ">Output\n",
    "Tekrar Eden Elemanlar: [10, 10, 15, 15, 15, 20, 20, 20, 20]\n",
    "Tekrar Etmeyen Elemanlar: [5]\n",
    "```"
   ]
  },
  {
   "cell_type": "code",
   "execution_count": 3,
   "metadata": {},
   "outputs": [
    {
     "name": "stdout",
     "output_type": "stream",
     "text": [
      "[10, 10, 15, 15, 15, 20, 20, 20, 20]\n",
      "[5]\n"
     ]
    }
   ],
   "source": [
    "# 2.Problemin b Şıkkının Çözümünü Buraya Yazınız\n",
    "numbers = [5,10,10,15,15,15,20,20,20,20]\n",
    "\n",
    "repeat = []\n",
    "unique = []\n",
    "\n",
    "for number in numbers :\n",
    "    if numbers.count(number) == 1 :\n",
    "        unique.append(number)\n",
    "    else :\n",
    "        repeat.append(number)\n",
    "\n",
    "print(repeat)\n",
    "print(unique)\n"
   ]
  },
  {
   "cell_type": "markdown",
   "metadata": {},
   "source": [
    "# Problem 3\n",
    "sn1 = {1,2,3,4,5}\n",
    "\n",
    "sn2 = {4,5,6,7,8}\n",
    "\n",
    " Verilen 2 adet küme için kesişimlerini, farklarını ve birleşimlerini bulunuz. "
   ]
  },
  {
   "cell_type": "code",
   "execution_count": 18,
   "metadata": {},
   "outputs": [
    {
     "name": "stdout",
     "output_type": "stream",
     "text": [
      "Kesişim : {4, 5}\n",
      "1.Kümenin 2.kümeden farkı : {1, 2, 3}\n",
      "2.Kümenin 1.kümeden farkı : {8, 6, 7}\n",
      "iki kümenin birleşimi: {1, 2, 3, 4, 5, 6, 7, 8}\n"
     ]
    }
   ],
   "source": [
    "sn1 = {1, 2, 3, 4, 5}\n",
    "sn2 ={4, 5, 6, 7, 8}\n",
    "\n",
    "kesisim = sn1.intersection(sn2)\n",
    "fark1 = sn1.difference(sn2)\n",
    "fark2 = sn2.difference(sn1)\n",
    "birlesim = sn1.union(sn2)\n",
    "\n",
    "\n",
    "print(\"Kesişim :\", kesisim)\n",
    "print(\"1.Kümenin 2.kümeden farkı :\", fark1)\n",
    "print(\"2.Kümenin 1.kümeden farkı :\", fark2)\n",
    "print(\"iki kümenin birleşimi:\", birlesim)"
   ]
  },
  {
   "cell_type": "markdown",
   "metadata": {},
   "source": [
    "# Problem 4\n",
    "\n",
    "Buradaki işlemlerimizin tamamı stringler içindir. Aşağıda verilecek olan metodlar için kendinizin örnek yaratması gerekmektedir. \n",
    "\n",
    "Örneğin `upper` için `string` değişkeni oluştururken` k = \"BAC\"` şeklinde oluşturmayınız. Bunun yerine k değişkenini `k = \"bac`\" şeklinde oluşturmanız `upper` metodundaki değişimi görebilmeniz için daha iyi olacaktır.\n",
    "\n",
    "Bütün metodlardaki değişimin gözle görülür şekilde değişimi beklenmektedir.\n",
    "\n",
    "\n",
    "1- capitalize(), lower(), upper(), swapcase(), title(), replace()\n",
    "\n",
    "2- endswith(), startswith(), find(), index(), count()\n",
    "\n",
    "3- split(), strip(), join(), islower(), isalpha(), isdigit()\n",
    "\n",
    "\n",
    "Yukarıdaki `string` metodlarındaki değişimleri görebildiğimiz bir program yazınız.\n"
   ]
  },
  {
   "cell_type": "code",
   "execution_count": 4,
   "metadata": {},
   "outputs": [
    {
     "name": "stdout",
     "output_type": "stream",
     "text": [
      "Yetgen core ile python\n",
      "yetgen core ile python\n",
      "YETGEN CORE ILE PYTHON\n",
      "yETgEN cORE ILE pYTHON\n",
      "Yetgen Core Ile Python\n",
      "YetGen Core ile 21.Yüzyıl Yetkinlikleri\n",
      "True\n",
      "False\n",
      "16\n",
      "4\n",
      "['YetGen Core ile Python']\n",
      "YetGen Core ile Python\n",
      "Y.e.t.G.e.n\n",
      "False\n",
      "False\n",
      "False\n"
     ]
    }
   ],
   "source": [
    "k = \"YetGen Core ile Python\"\n",
    "\n",
    "print(k.capitalize())\n",
    "print(k.lower())\n",
    "print(k.upper())\n",
    "print(k.swapcase())\n",
    "print(k.title())\n",
    "print(k.replace(\"Python\", \"21.Yüzyıl Yetkinlikleri\"))\n",
    "\n",
    "print(k.endswith(\"Python\"))\n",
    "print(k.startswith(\"Ali\"))\n",
    "print(k.find(\"Python\"))\n",
    "print(k.count(\"e\"))\n",
    "\n",
    "print(k.split(\",\"))\n",
    "k = k.strip()\n",
    "print(k)\n",
    "\n",
    "l = (\"YetGen\")\n",
    "print(\".\" .join(l))\n",
    "\n",
    "print(k.islower())\n",
    "print(k.isalpha())\n",
    "print(k.isdigit())"
   ]
  }
 ],
 "metadata": {
  "kernelspec": {
   "display_name": "Python 3.10.5 64-bit",
   "language": "python",
   "name": "python3"
  },
  "language_info": {
   "codemirror_mode": {
    "name": "ipython",
    "version": 3
   },
   "file_extension": ".py",
   "mimetype": "text/x-python",
   "name": "python",
   "nbconvert_exporter": "python",
   "pygments_lexer": "ipython3",
   "version": "3.11.7"
  },
  "orig_nbformat": 4,
  "vscode": {
   "interpreter": {
    "hash": "5026d2d6e7aaaaba093def813beadff083d8733e4a511af01735cbabd156995d"
   }
  }
 },
 "nbformat": 4,
 "nbformat_minor": 2
}
